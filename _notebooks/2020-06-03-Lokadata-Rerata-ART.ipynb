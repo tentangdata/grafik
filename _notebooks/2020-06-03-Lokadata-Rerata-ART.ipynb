{
 "cells": [
  {
   "cell_type": "markdown",
   "metadata": {},
   "source": [
    "# \"Rerata Pengeluaran ART\"\n",
    "> \"Ketika kreativitas malah membuat rancu\"\n",
    "\n",
    "- toc: false\n",
    "- branch: master\n",
    "- badges: true\n",
    "- comments: true\n",
    "- author: Yosef Ardhito\n",
    "- categories: [dinamis]"
   ]
  },
  {
   "cell_type": "markdown",
   "metadata": {},
   "source": [
    "![Rerata ART Lokadata](../images/statis_posts/lokadata/lokadata-art.png \"Sumber: https://lokadata.id/artikel/orang-kota-butuh-tangan-ekstra\")"
   ]
  },
  {
   "cell_type": "markdown",
   "metadata": {},
   "source": [
    "Salah satu tantangan terbesar saat membuat grafik adalah menyeimbangkan antara estetika dan fungsional. Contohnya, ketika kita ingin menggambarkan data dalam rupiah seperti yang dibuat teman-teman lokadata di atas. Walau menggelitik, saya tidak ingin berkomentar mengenai ketepatan metodenya. Sudah banyak yang mengingatkan sampai-sampai mereka harus merevisi keterangan terkait grafik ini:\n",
    "\n",
    "> twitter: https://twitter.com/LokadataID/status/1266955908552126464?s=20\n",
    "\n",
    "Ada satu hal lagi yang sebetulnya layak diapresiasi yaitu inisiatif menggunakan lembaran rupiah sebagai komponen visual. Sayangnya, pilihan ini mengorbankan keterbacaan grafik dalam dua hal. Pertama, lembaran rupiah memiliki warna yang berbeda-beda. Warna adalah salah satu komponen visual yang kentara dalam sebuah grafik. Dengan menggunakan lembaran rupiah, warna justru menjadi distraksi. Coba tengok juga bagaimana lembaran rupiah dipotong menjadi beberapa bagian, lebar lembaran yang berbeda-beda tanpa makna khusus malah jadi membingungkan.\n",
    "\n",
    "Kritik kedua awalnya saya kira tidak begitu signifikan. Ternyata, oh ternyata, coba bandingkan dengan grafik sederhana yang saya buat berikut:"
   ]
  },
  {
   "cell_type": "code",
   "execution_count": 55,
   "metadata": {},
   "outputs": [
    {
     "data": {
      "text/html": [
       "\n",
       "<div id=\"altair-viz-8b4928b8ebc7449f9331f7e5c5a8764c\"></div>\n",
       "<script type=\"text/javascript\">\n",
       "  (function(spec, embedOpt){\n",
       "    let outputDiv = document.currentScript.previousElementSibling;\n",
       "    if (outputDiv.id !== \"altair-viz-8b4928b8ebc7449f9331f7e5c5a8764c\") {\n",
       "      outputDiv = document.getElementById(\"altair-viz-8b4928b8ebc7449f9331f7e5c5a8764c\");\n",
       "    }\n",
       "    const paths = {\n",
       "      \"vega\": \"https://cdn.jsdelivr.net/npm//vega@5?noext\",\n",
       "      \"vega-lib\": \"https://cdn.jsdelivr.net/npm//vega-lib?noext\",\n",
       "      \"vega-lite\": \"https://cdn.jsdelivr.net/npm//vega-lite@4.8.1?noext\",\n",
       "      \"vega-embed\": \"https://cdn.jsdelivr.net/npm//vega-embed@6?noext\",\n",
       "    };\n",
       "\n",
       "    function loadScript(lib) {\n",
       "      return new Promise(function(resolve, reject) {\n",
       "        var s = document.createElement('script');\n",
       "        s.src = paths[lib];\n",
       "        s.async = true;\n",
       "        s.onload = () => resolve(paths[lib]);\n",
       "        s.onerror = () => reject(`Error loading script: ${paths[lib]}`);\n",
       "        document.getElementsByTagName(\"head\")[0].appendChild(s);\n",
       "      });\n",
       "    }\n",
       "\n",
       "    function showError(err) {\n",
       "      outputDiv.innerHTML = `<div class=\"error\" style=\"color:red;\">${err}</div>`;\n",
       "      throw err;\n",
       "    }\n",
       "\n",
       "    function displayChart(vegaEmbed) {\n",
       "      vegaEmbed(outputDiv, spec, embedOpt)\n",
       "        .catch(err => showError(`Javascript Error: ${err.message}<br>This usually means there's a typo in your chart specification. See the javascript console for the full traceback.`));\n",
       "    }\n",
       "\n",
       "    if(typeof define === \"function\" && define.amd) {\n",
       "      requirejs.config({paths});\n",
       "      require([\"vega-embed\"], displayChart, err => showError(`Error loading script: ${err.message}`));\n",
       "    } else if (typeof vegaEmbed === \"function\") {\n",
       "      displayChart(vegaEmbed);\n",
       "    } else {\n",
       "      loadScript(\"vega\")\n",
       "        .then(() => loadScript(\"vega-lite\"))\n",
       "        .then(() => loadScript(\"vega-embed\"))\n",
       "        .catch(showError)\n",
       "        .then(() => displayChart(vegaEmbed));\n",
       "    }\n",
       "  })({\"config\": {\"view\": {\"continuousWidth\": 400, \"continuousHeight\": 300, \"strokeWidth\": 0}}, \"layer\": [{\"mark\": \"bar\", \"encoding\": {\"tooltip\": [{\"type\": \"nominal\", \"field\": \"Wilayah\"}, {\"type\": \"nominal\", \"field\": \"Provinsi\"}, {\"type\": \"nominal\", \"field\": \"Rerata\"}, {\"type\": \"nominal\", \"field\": \"Jumlah RT\"}], \"x\": {\"type\": \"quantitative\", \"axis\": null, \"field\": \"Rerata_ori\"}, \"y\": {\"type\": \"nominal\", \"axis\": {\"title\": null}, \"field\": \"Wilayah\", \"sort\": \"-x\"}}}, {\"mark\": {\"type\": \"text\", \"align\": \"left\", \"baseline\": \"middle\", \"dx\": 3}, \"encoding\": {\"text\": {\"type\": \"nominal\", \"field\": \"Rerata\"}, \"tooltip\": [{\"type\": \"nominal\", \"field\": \"Wilayah\"}, {\"type\": \"nominal\", \"field\": \"Provinsi\"}, {\"type\": \"nominal\", \"field\": \"Rerata\"}, {\"type\": \"nominal\", \"field\": \"Jumlah RT\"}], \"x\": {\"type\": \"quantitative\", \"axis\": null, \"field\": \"Rerata_ori\"}, \"y\": {\"type\": \"nominal\", \"axis\": {\"title\": null}, \"field\": \"Wilayah\", \"sort\": \"-x\"}}}], \"data\": {\"name\": \"data-a08129ba1187e6b16f7857aed0fbd05a\"}, \"$schema\": \"https://vega.github.io/schema/vega-lite/v4.8.1.json\", \"datasets\": {\"data-a08129ba1187e6b16f7857aed0fbd05a\": [{\"Wilayah\": \"Jakarta Selatan\", \"Provinsi\": \"DKI Jakarta\", \"Rerata_ori\": 277, \"RT_ori\": 631, \"Rerata\": \"277rb\", \"Jumlah RT\": \"631rb\"}, {\"Wilayah\": \"Jakarta Barat\", \"Provinsi\": \"DKI Jakarta\", \"Rerata_ori\": 182, \"RT_ori\": 728, \"Rerata\": \"182rb\", \"Jumlah RT\": \"728rb\"}, {\"Wilayah\": \"Kota Surabaya\", \"Provinsi\": \"JAWA Timur\", \"Rerata_ori\": 180, \"RT_ori\": 800, \"Rerata\": \"180rb\", \"Jumlah RT\": \"800rb\"}, {\"Wilayah\": \"Jakarta Pusat\", \"Provinsi\": \"DKI Jakarta\", \"Rerata_ori\": 167, \"RT_ori\": 290, \"Rerata\": \"167rb\", \"Jumlah RT\": \"290rb\"}, {\"Wilayah\": \"Tanggerang Selatan\", \"Provinsi\": \"Banten\", \"Rerata_ori\": 154, \"RT_ori\": 456, \"Rerata\": \"154rb\", \"Jumlah RT\": \"456rb\"}, {\"Wilayah\": \"Kota Bekasi\", \"Provinsi\": \"Jawa Barat\", \"Rerata_ori\": 153, \"RT_ori\": 812, \"Rerata\": \"153rb\", \"Jumlah RT\": \"812rb\"}, {\"Wilayah\": \"Kota Sukabumi\", \"Provinsi\": \"Jawa Barat\", \"Rerata_ori\": 143, \"RT_ori\": 94, \"Rerata\": \"143rb\", \"Jumlah RT\": \"94rb\"}, {\"Wilayah\": \"Kota Bogor\", \"Provinsi\": \"Jawa Barat\", \"Rerata_ori\": 140, \"RT_ori\": 302, \"Rerata\": \"140rb\", \"Jumlah RT\": \"302rb\"}, {\"Wilayah\": \"Kota Depok\", \"Provinsi\": \"Jawa Barat\", \"Rerata_ori\": 135, \"RT_ori\": 630, \"Rerata\": \"135rb\", \"Jumlah RT\": \"630rb\"}, {\"Wilayah\": \"Kota Surakarta\", \"Provinsi\": \"Jawa Tengah\", \"Rerata_ori\": 132, \"RT_ori\": 153, \"Rerata\": \"132rb\", \"Jumlah RT\": \"153rb\"}]}}, {\"mode\": \"vega-lite\"});\n",
       "</script>"
      ],
      "text/plain": [
       "alt.LayerChart(...)"
      ]
     },
     "execution_count": 55,
     "metadata": {},
     "output_type": "execute_result"
    }
   ],
   "source": [
    "#collapse-hide\n",
    "\n",
    "import pandas as pd\n",
    "import altair as alt\n",
    "\n",
    "art_data = [\n",
    "    (\"Jakarta Selatan\", \"DKI Jakarta\", 277, 631),\n",
    "    (\"Jakarta Barat\", \"DKI Jakarta\", 182, 728),\n",
    "    (\"Kota Surabaya\", \"JAWA Timur\", 180, 800),\n",
    "    (\"Jakarta Pusat\", \"DKI Jakarta\", 167, 290),\n",
    "    (\"Tanggerang Selatan\", \"Banten\", 154, 456),\n",
    "    (\"Kota Bekasi\", \"Jawa Barat\", 153, 812),\n",
    "    (\"Kota Sukabumi\", \"Jawa Barat\", 143, 94),\n",
    "    (\"Kota Bogor\", \"Jawa Barat\", 140, 302),\n",
    "    (\"Kota Depok\", \"Jawa Barat\", 135, 630),\n",
    "    (\"Kota Surakarta\", \"Jawa Tengah\", 132, 153)\n",
    "]\n",
    "art_df = pd.DataFrame(\n",
    "    data=art_data,\n",
    "    columns=[\"Wilayah\", \"Provinsi\", \"Rerata_ori\", \"RT_ori\"]\n",
    ")\n",
    "art_df[\"Rerata\"] = art_df[\"Rerata_ori\"].apply(lambda r: f\"{r}rb\")\n",
    "art_df[\"Jumlah RT\"] = art_df[\"RT_ori\"].apply(lambda r: f\"{r}rb\")\n",
    "bars = alt.Chart(art_df).mark_bar().encode(\n",
    "    x=alt.X(\"Rerata_ori:Q\", axis=None),\n",
    "    y=alt.Y(\"Wilayah:N\", sort=\"-x\", axis=alt.Axis(title=None)),\n",
    "    tooltip=[\n",
    "        \"Wilayah:N\",\n",
    "        \"Provinsi:N\",\n",
    "        \"Rerata:N\",\n",
    "        \"Jumlah RT:N\"\n",
    "    ]\n",
    ")\n",
    "text = bars.mark_text(\n",
    "    align=\"left\",\n",
    "    baseline=\"middle\",\n",
    "    dx=3\n",
    ").encode(\n",
    "    text=\"Rerata:N\"\n",
    ")\n",
    "(bars + text).configure_view(strokeWidth = 0)"
   ]
  },
  {
   "cell_type": "markdown",
   "metadata": {},
   "source": [
    "Perbandingannya jadi terdistorsi! **Jakarta Selatan** seharusnya jauh lebih besar dari **Jakarta Barat** dibanding yang ditampilkan lokadata. Apakah keuntungan estetis yang didapat dengan menggunakan lembar uang sebanding dengan kompromi memainkan skala? Bagi saya, tidak. Informasi utama yang mau disampaikan adalah perbandingan rerata antar kota, tidak bisa sembarang memperpendek bar demi estetika.\n",
    "\n",
    "Jika ingin menggunakan lembaran uang, mungkin bisa dipertimbangkan untuk tidak menggunakan representasi *bar chart*. Ya pakai kumpulan uang saja, maka komponen visualnya adalah warna. Pertanyaan lanjutannya: apakah membandingkan jumlah uang antar gepok cukup mudah? Untuk yang matanya hijau sih, bisa jadi ya.\n",
    "\n",
    "![Segepok duit](../images/statis_posts/lokadata/78rupiah.jpg)"
   ]
  }
 ],
 "metadata": {
  "kernelspec": {
   "display_name": "Python 3",
   "language": "python",
   "name": "python3"
  },
  "language_info": {
   "codemirror_mode": {
    "name": "ipython",
    "version": 3
   },
   "file_extension": ".py",
   "mimetype": "text/x-python",
   "name": "python",
   "nbconvert_exporter": "python",
   "pygments_lexer": "ipython3",
   "version": "3.7.7"
  }
 },
 "nbformat": 4,
 "nbformat_minor": 4
}
